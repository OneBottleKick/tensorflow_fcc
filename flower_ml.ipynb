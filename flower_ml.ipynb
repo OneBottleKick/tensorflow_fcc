{
 "metadata": {
  "language_info": {
   "codemirror_mode": {
    "name": "ipython",
    "version": 3
   },
   "file_extension": ".py",
   "mimetype": "text/x-python",
   "name": "python",
   "nbconvert_exporter": "python",
   "pygments_lexer": "ipython3",
   "version": "3.7.9-final"
  },
  "orig_nbformat": 2,
  "kernelspec": {
   "name": "Python 3.7.9 64-bit ('ml': conda)",
   "display_name": "Python 3.7.9 64-bit ('ml': conda)",
   "metadata": {
    "interpreter": {
     "hash": "a128b13a078f48a6f6b249ee0799d84807d390d8af8ba7602d8b01c2dfc8a2da"
    }
   }
  }
 },
 "nbformat": 4,
 "nbformat_minor": 2,
 "cells": [
  {
   "cell_type": "code",
   "execution_count": 21,
   "metadata": {},
   "outputs": [],
   "source": [
    "from __future__ import absolute_import, print_function, unicode_literals\n",
    "\n",
    "import tensorflow as tf \n",
    "import pandas as pd "
   ]
  },
  {
   "cell_type": "code",
   "execution_count": 22,
   "metadata": {},
   "outputs": [],
   "source": [
    "CSV_COLUMN_NAMES = ['SepalLength', 'SepalWidth', 'PetalLength', 'PetalWidth', 'Species']\n",
    "SPECIES = ['Setosa', 'Versicolor', 'Virginica']"
   ]
  },
  {
   "cell_type": "code",
   "execution_count": 23,
   "metadata": {
    "tags": []
   },
   "outputs": [],
   "source": [
    "train_path = tf.keras.utils.get_file(\n",
    "    'iris_training.csv', 'https://storage.googleapis.com/download.tensorflow.org/data/iris_training.csv')\n",
    "test_path = tf.keras.utils.get_file(\n",
    "    'iris_test.csv', 'https://storage.googleapis.com/download.tensorflow.org/data/iris_test.csv')\n",
    "\n",
    "train = pd.read_csv(train_path, names=CSV_COLUMN_NAMES, header=0)\n",
    "test = pd.read_csv(test_path, names=CSV_COLUMN_NAMES, header=0)"
   ]
  },
  {
   "cell_type": "code",
   "execution_count": 24,
   "metadata": {},
   "outputs": [
    {
     "output_type": "execute_result",
     "data": {
      "text/plain": "   SepalLength  SepalWidth  PetalLength  PetalWidth  Species\n0          6.4         2.8          5.6         2.2        2\n1          5.0         2.3          3.3         1.0        1\n2          4.9         2.5          4.5         1.7        2\n3          4.9         3.1          1.5         0.1        0\n4          5.7         3.8          1.7         0.3        0",
      "text/html": "<div>\n<style scoped>\n    .dataframe tbody tr th:only-of-type {\n        vertical-align: middle;\n    }\n\n    .dataframe tbody tr th {\n        vertical-align: top;\n    }\n\n    .dataframe thead th {\n        text-align: right;\n    }\n</style>\n<table border=\"1\" class=\"dataframe\">\n  <thead>\n    <tr style=\"text-align: right;\">\n      <th></th>\n      <th>SepalLength</th>\n      <th>SepalWidth</th>\n      <th>PetalLength</th>\n      <th>PetalWidth</th>\n      <th>Species</th>\n    </tr>\n  </thead>\n  <tbody>\n    <tr>\n      <th>0</th>\n      <td>6.4</td>\n      <td>2.8</td>\n      <td>5.6</td>\n      <td>2.2</td>\n      <td>2</td>\n    </tr>\n    <tr>\n      <th>1</th>\n      <td>5.0</td>\n      <td>2.3</td>\n      <td>3.3</td>\n      <td>1.0</td>\n      <td>1</td>\n    </tr>\n    <tr>\n      <th>2</th>\n      <td>4.9</td>\n      <td>2.5</td>\n      <td>4.5</td>\n      <td>1.7</td>\n      <td>2</td>\n    </tr>\n    <tr>\n      <th>3</th>\n      <td>4.9</td>\n      <td>3.1</td>\n      <td>1.5</td>\n      <td>0.1</td>\n      <td>0</td>\n    </tr>\n    <tr>\n      <th>4</th>\n      <td>5.7</td>\n      <td>3.8</td>\n      <td>1.7</td>\n      <td>0.3</td>\n      <td>0</td>\n    </tr>\n  </tbody>\n</table>\n</div>"
     },
     "metadata": {},
     "execution_count": 24
    }
   ],
   "source": [
    "train.head()"
   ]
  },
  {
   "cell_type": "code",
   "execution_count": 25,
   "metadata": {},
   "outputs": [
    {
     "output_type": "execute_result",
     "data": {
      "text/plain": "       SepalLength  SepalWidth  PetalLength  PetalWidth     Species\ncount   120.000000  120.000000   120.000000  120.000000  120.000000\nmean      5.845000    3.065000     3.739167    1.196667    1.000000\nstd       0.868578    0.427156     1.822100    0.782039    0.840168\nmin       4.400000    2.000000     1.000000    0.100000    0.000000\n25%       5.075000    2.800000     1.500000    0.300000    0.000000\n50%       5.800000    3.000000     4.400000    1.300000    1.000000\n75%       6.425000    3.300000     5.100000    1.800000    2.000000\nmax       7.900000    4.400000     6.900000    2.500000    2.000000",
      "text/html": "<div>\n<style scoped>\n    .dataframe tbody tr th:only-of-type {\n        vertical-align: middle;\n    }\n\n    .dataframe tbody tr th {\n        vertical-align: top;\n    }\n\n    .dataframe thead th {\n        text-align: right;\n    }\n</style>\n<table border=\"1\" class=\"dataframe\">\n  <thead>\n    <tr style=\"text-align: right;\">\n      <th></th>\n      <th>SepalLength</th>\n      <th>SepalWidth</th>\n      <th>PetalLength</th>\n      <th>PetalWidth</th>\n      <th>Species</th>\n    </tr>\n  </thead>\n  <tbody>\n    <tr>\n      <th>count</th>\n      <td>120.000000</td>\n      <td>120.000000</td>\n      <td>120.000000</td>\n      <td>120.000000</td>\n      <td>120.000000</td>\n    </tr>\n    <tr>\n      <th>mean</th>\n      <td>5.845000</td>\n      <td>3.065000</td>\n      <td>3.739167</td>\n      <td>1.196667</td>\n      <td>1.000000</td>\n    </tr>\n    <tr>\n      <th>std</th>\n      <td>0.868578</td>\n      <td>0.427156</td>\n      <td>1.822100</td>\n      <td>0.782039</td>\n      <td>0.840168</td>\n    </tr>\n    <tr>\n      <th>min</th>\n      <td>4.400000</td>\n      <td>2.000000</td>\n      <td>1.000000</td>\n      <td>0.100000</td>\n      <td>0.000000</td>\n    </tr>\n    <tr>\n      <th>25%</th>\n      <td>5.075000</td>\n      <td>2.800000</td>\n      <td>1.500000</td>\n      <td>0.300000</td>\n      <td>0.000000</td>\n    </tr>\n    <tr>\n      <th>50%</th>\n      <td>5.800000</td>\n      <td>3.000000</td>\n      <td>4.400000</td>\n      <td>1.300000</td>\n      <td>1.000000</td>\n    </tr>\n    <tr>\n      <th>75%</th>\n      <td>6.425000</td>\n      <td>3.300000</td>\n      <td>5.100000</td>\n      <td>1.800000</td>\n      <td>2.000000</td>\n    </tr>\n    <tr>\n      <th>max</th>\n      <td>7.900000</td>\n      <td>4.400000</td>\n      <td>6.900000</td>\n      <td>2.500000</td>\n      <td>2.000000</td>\n    </tr>\n  </tbody>\n</table>\n</div>"
     },
     "metadata": {},
     "execution_count": 25
    }
   ],
   "source": [
    "train.describe()"
   ]
  },
  {
   "cell_type": "code",
   "execution_count": 26,
   "metadata": {
    "tags": []
   },
   "outputs": [
    {
     "output_type": "stream",
     "name": "stdout",
     "text": "<class 'pandas.core.frame.DataFrame'>\nRangeIndex: 120 entries, 0 to 119\nData columns (total 5 columns):\n #   Column       Non-Null Count  Dtype  \n---  ------       --------------  -----  \n 0   SepalLength  120 non-null    float64\n 1   SepalWidth   120 non-null    float64\n 2   PetalLength  120 non-null    float64\n 3   PetalWidth   120 non-null    float64\n 4   Species      120 non-null    int64  \ndtypes: float64(4), int64(1)\nmemory usage: 4.8 KB\n"
    }
   ],
   "source": [
    "train.info()"
   ]
  },
  {
   "cell_type": "code",
   "execution_count": 27,
   "metadata": {},
   "outputs": [
    {
     "output_type": "execute_result",
     "data": {
      "text/plain": "   SepalLength  SepalWidth  PetalLength  PetalWidth\n0          6.4         2.8          5.6         2.2\n1          5.0         2.3          3.3         1.0\n2          4.9         2.5          4.5         1.7\n3          4.9         3.1          1.5         0.1\n4          5.7         3.8          1.7         0.3",
      "text/html": "<div>\n<style scoped>\n    .dataframe tbody tr th:only-of-type {\n        vertical-align: middle;\n    }\n\n    .dataframe tbody tr th {\n        vertical-align: top;\n    }\n\n    .dataframe thead th {\n        text-align: right;\n    }\n</style>\n<table border=\"1\" class=\"dataframe\">\n  <thead>\n    <tr style=\"text-align: right;\">\n      <th></th>\n      <th>SepalLength</th>\n      <th>SepalWidth</th>\n      <th>PetalLength</th>\n      <th>PetalWidth</th>\n    </tr>\n  </thead>\n  <tbody>\n    <tr>\n      <th>0</th>\n      <td>6.4</td>\n      <td>2.8</td>\n      <td>5.6</td>\n      <td>2.2</td>\n    </tr>\n    <tr>\n      <th>1</th>\n      <td>5.0</td>\n      <td>2.3</td>\n      <td>3.3</td>\n      <td>1.0</td>\n    </tr>\n    <tr>\n      <th>2</th>\n      <td>4.9</td>\n      <td>2.5</td>\n      <td>4.5</td>\n      <td>1.7</td>\n    </tr>\n    <tr>\n      <th>3</th>\n      <td>4.9</td>\n      <td>3.1</td>\n      <td>1.5</td>\n      <td>0.1</td>\n    </tr>\n    <tr>\n      <th>4</th>\n      <td>5.7</td>\n      <td>3.8</td>\n      <td>1.7</td>\n      <td>0.3</td>\n    </tr>\n  </tbody>\n</table>\n</div>"
     },
     "metadata": {},
     "execution_count": 27
    }
   ],
   "source": [
    "train_y = train.pop('Species')\n",
    "test_y = test.pop('Species')\n",
    "train.head()"
   ]
  },
  {
   "cell_type": "code",
   "execution_count": 28,
   "metadata": {},
   "outputs": [
    {
     "output_type": "execute_result",
     "data": {
      "text/plain": "(120, 4)"
     },
     "metadata": {},
     "execution_count": 28
    }
   ],
   "source": [
    "train.shape"
   ]
  },
  {
   "cell_type": "code",
   "execution_count": 29,
   "metadata": {},
   "outputs": [],
   "source": [
    "def input_fn(features, labels, training=True, batch_size=256):\n",
    "    dataset = tf.data.Dataset.from_tensor_slices((dict(features), labels))\n",
    "\n",
    "    if training:\n",
    "        dataset = dataset.shuffle(1000).repeat()\n",
    "\n",
    "    return dataset.batch(batch_size)"
   ]
  },
  {
   "cell_type": "code",
   "execution_count": 30,
   "metadata": {
    "tags": []
   },
   "outputs": [
    {
     "output_type": "stream",
     "name": "stdout",
     "text": "[NumericColumn(key='SepalLength', shape=(1,), default_value=None, dtype=tf.float32, normalizer_fn=None), NumericColumn(key='SepalWidth', shape=(1,), default_value=None, dtype=tf.float32, normalizer_fn=None), NumericColumn(key='PetalLength', shape=(1,), default_value=None, dtype=tf.float32, normalizer_fn=None), NumericColumn(key='PetalWidth', shape=(1,), default_value=None, dtype=tf.float32, normalizer_fn=None)]\n"
    }
   ],
   "source": [
    "my_feature_columns = []\n",
    "for key in train.keys():\n",
    "    my_feature_columns.append(tf.feature_column.numeric_column(key=key))\n",
    "print(my_feature_columns)"
   ]
  },
  {
   "cell_type": "code",
   "execution_count": 31,
   "metadata": {
    "tags": []
   },
   "outputs": [
    {
     "output_type": "stream",
     "name": "stdout",
     "text": "INFO:tensorflow:Using default config.\nWARNING:tensorflow:Using temporary folder as model directory: /tmp/tmpp38kadza\nINFO:tensorflow:Using config: {'_model_dir': '/tmp/tmpp38kadza', '_tf_random_seed': None, '_save_summary_steps': 100, '_save_checkpoints_steps': None, '_save_checkpoints_secs': 600, '_session_config': allow_soft_placement: true\ngraph_options {\n  rewrite_options {\n    meta_optimizer_iterations: ONE\n  }\n}\n, '_keep_checkpoint_max': 5, '_keep_checkpoint_every_n_hours': 10000, '_log_step_count_steps': 100, '_train_distribute': None, '_device_fn': None, '_protocol': None, '_eval_distribute': None, '_experimental_distribute': None, '_experimental_max_worker_delay_secs': None, '_session_creation_timeout_secs': 7200, '_service': None, '_cluster_spec': ClusterSpec({}), '_task_type': 'worker', '_task_id': 0, '_global_id_in_cluster': 0, '_master': '', '_evaluation_master': '', '_is_chief': True, '_num_ps_replicas': 0, '_num_worker_replicas': 1}\n"
    }
   ],
   "source": [
    "classifier = tf.estimator.DNNClassifier(\n",
    "    feature_columns=my_feature_columns,\n",
    "    hidden_units = [30,10],\n",
    "    n_classes=3\n",
    ")"
   ]
  },
  {
   "cell_type": "code",
   "execution_count": 32,
   "metadata": {
    "tags": []
   },
   "outputs": [
    {
     "output_type": "stream",
     "name": "stdout",
     "text": "INFO:tensorflow:Calling model_fn.\nWARNING:tensorflow:Layer dnn is casting an input tensor from dtype float64 to the layer's dtype of float32, which is new behavior in TensorFlow 2.  The layer has dtype float32 because it's dtype defaults to floatx.\n\nIf you intended to run this layer in float32, you can safely ignore this warning. If in doubt, this warning is likely only an issue if you are porting a TensorFlow 1.X model to TensorFlow 2.\n\nTo change all layers to have dtype float64 by default, call `tf.keras.backend.set_floatx('float64')`. To change just this layer, pass dtype='float64' to the layer constructor. If you are the author of this layer, you can disable autocasting by passing autocast=False to the base Layer constructor.\n\nINFO:tensorflow:Done calling model_fn.\nINFO:tensorflow:Create CheckpointSaverHook.\nINFO:tensorflow:Graph was finalized.\nINFO:tensorflow:Running local_init_op.\nINFO:tensorflow:Done running local_init_op.\nINFO:tensorflow:Saving checkpoints for 0 into /tmp/tmpp38kadza/model.ckpt.\nINFO:tensorflow:loss = 1.5584503, step = 0\nINFO:tensorflow:global_step/sec: 174.929\nINFO:tensorflow:loss = 0.9580072, step = 100 (0.573 sec)\nINFO:tensorflow:global_step/sec: 230.544\nINFO:tensorflow:loss = 0.8451096, step = 200 (0.438 sec)\nINFO:tensorflow:global_step/sec: 200.011\nINFO:tensorflow:loss = 0.7647258, step = 300 (0.499 sec)\nINFO:tensorflow:global_step/sec: 209.51\nINFO:tensorflow:loss = 0.7131356, step = 400 (0.477 sec)\nINFO:tensorflow:global_step/sec: 162.042\nINFO:tensorflow:loss = 0.6867949, step = 500 (0.618 sec)\nINFO:tensorflow:global_step/sec: 155.14\nINFO:tensorflow:loss = 0.67441285, step = 600 (0.644 sec)\nINFO:tensorflow:global_step/sec: 169.862\nINFO:tensorflow:loss = 0.6531354, step = 700 (0.589 sec)\nINFO:tensorflow:global_step/sec: 155.614\nINFO:tensorflow:loss = 0.63590276, step = 800 (0.644 sec)\nINFO:tensorflow:global_step/sec: 170.697\nINFO:tensorflow:loss = 0.61703885, step = 900 (0.582 sec)\nINFO:tensorflow:global_step/sec: 199.286\nINFO:tensorflow:loss = 0.60412335, step = 1000 (0.505 sec)\nINFO:tensorflow:global_step/sec: 142.87\nINFO:tensorflow:loss = 0.58930564, step = 1100 (0.700 sec)\nINFO:tensorflow:global_step/sec: 147.547\nINFO:tensorflow:loss = 0.5761526, step = 1200 (0.677 sec)\nINFO:tensorflow:global_step/sec: 255.192\nINFO:tensorflow:loss = 0.557307, step = 1300 (0.389 sec)\nINFO:tensorflow:global_step/sec: 213.118\nINFO:tensorflow:loss = 0.5462303, step = 1400 (0.472 sec)\nINFO:tensorflow:global_step/sec: 138.68\nINFO:tensorflow:loss = 0.53177, step = 1500 (0.721 sec)\nINFO:tensorflow:global_step/sec: 169.314\nINFO:tensorflow:loss = 0.51580477, step = 1600 (0.591 sec)\nINFO:tensorflow:global_step/sec: 189.265\nINFO:tensorflow:loss = 0.5222002, step = 1700 (0.525 sec)\nINFO:tensorflow:global_step/sec: 178.25\nINFO:tensorflow:loss = 0.5091752, step = 1800 (0.563 sec)\nINFO:tensorflow:global_step/sec: 195.324\nINFO:tensorflow:loss = 0.5016253, step = 1900 (0.514 sec)\nINFO:tensorflow:global_step/sec: 199.317\nINFO:tensorflow:loss = 0.50464034, step = 2000 (0.500 sec)\nINFO:tensorflow:global_step/sec: 151.601\nINFO:tensorflow:loss = 0.48356438, step = 2100 (0.660 sec)\nINFO:tensorflow:global_step/sec: 123.072\nINFO:tensorflow:loss = 0.49319762, step = 2200 (0.814 sec)\nINFO:tensorflow:global_step/sec: 106.38\nINFO:tensorflow:loss = 0.46488017, step = 2300 (0.941 sec)\nINFO:tensorflow:global_step/sec: 144.923\nINFO:tensorflow:loss = 0.46552455, step = 2400 (0.693 sec)\nINFO:tensorflow:global_step/sec: 88.7682\nINFO:tensorflow:loss = 0.45373136, step = 2500 (1.119 sec)\nINFO:tensorflow:global_step/sec: 145.857\nINFO:tensorflow:loss = 0.4479039, step = 2600 (0.685 sec)\nINFO:tensorflow:global_step/sec: 172.51\nINFO:tensorflow:loss = 0.4445397, step = 2700 (0.579 sec)\nINFO:tensorflow:global_step/sec: 147.056\nINFO:tensorflow:loss = 0.43509573, step = 2800 (0.680 sec)\nINFO:tensorflow:global_step/sec: 135.247\nINFO:tensorflow:loss = 0.44299874, step = 2900 (0.743 sec)\nINFO:tensorflow:global_step/sec: 181.07\nINFO:tensorflow:loss = 0.42548716, step = 3000 (0.552 sec)\nINFO:tensorflow:global_step/sec: 183.857\nINFO:tensorflow:loss = 0.40959045, step = 3100 (0.548 sec)\nINFO:tensorflow:global_step/sec: 188.232\nINFO:tensorflow:loss = 0.41246805, step = 3200 (0.527 sec)\nINFO:tensorflow:global_step/sec: 174.766\nINFO:tensorflow:loss = 0.41053694, step = 3300 (0.572 sec)\nINFO:tensorflow:global_step/sec: 198.976\nINFO:tensorflow:loss = 0.4145772, step = 3400 (0.499 sec)\nINFO:tensorflow:global_step/sec: 199.341\nINFO:tensorflow:loss = 0.39687163, step = 3500 (0.505 sec)\nINFO:tensorflow:global_step/sec: 192.014\nINFO:tensorflow:loss = 0.40193486, step = 3600 (0.517 sec)\nINFO:tensorflow:global_step/sec: 221.627\nINFO:tensorflow:loss = 0.39918637, step = 3700 (0.451 sec)\nINFO:tensorflow:global_step/sec: 170.759\nINFO:tensorflow:loss = 0.39661163, step = 3800 (0.585 sec)\nINFO:tensorflow:global_step/sec: 210.881\nINFO:tensorflow:loss = 0.3863551, step = 3900 (0.478 sec)\nINFO:tensorflow:global_step/sec: 147.762\nINFO:tensorflow:loss = 0.38096562, step = 4000 (0.673 sec)\nINFO:tensorflow:global_step/sec: 237.471\nINFO:tensorflow:loss = 0.38696918, step = 4100 (0.423 sec)\nINFO:tensorflow:global_step/sec: 152.827\nINFO:tensorflow:loss = 0.3788641, step = 4200 (0.656 sec)\nINFO:tensorflow:global_step/sec: 135.732\nINFO:tensorflow:loss = 0.37138307, step = 4300 (0.737 sec)\nINFO:tensorflow:global_step/sec: 164.247\nINFO:tensorflow:loss = 0.37205437, step = 4400 (0.610 sec)\nINFO:tensorflow:global_step/sec: 137.926\nINFO:tensorflow:loss = 0.37025762, step = 4500 (0.724 sec)\nINFO:tensorflow:global_step/sec: 147.121\nINFO:tensorflow:loss = 0.35647812, step = 4600 (0.676 sec)\nINFO:tensorflow:global_step/sec: 168.818\nINFO:tensorflow:loss = 0.3686474, step = 4700 (0.597 sec)\nINFO:tensorflow:global_step/sec: 125.139\nINFO:tensorflow:loss = 0.36189616, step = 4800 (0.794 sec)\nINFO:tensorflow:global_step/sec: 118.824\nINFO:tensorflow:loss = 0.3555315, step = 4900 (0.841 sec)\nINFO:tensorflow:Saving checkpoints for 5000 into /tmp/tmpp38kadza/model.ckpt.\nINFO:tensorflow:Loss for final step: 0.3588001.\n"
    },
    {
     "output_type": "execute_result",
     "data": {
      "text/plain": "<tensorflow_estimator.python.estimator.canned.dnn.DNNClassifierV2 at 0x7fe7f40687d0>"
     },
     "metadata": {},
     "execution_count": 32
    }
   ],
   "source": [
    "classifier.train(\n",
    "    input_fn=lambda: input_fn(train, train_y, training=True),\n",
    "    steps=5000)"
   ]
  },
  {
   "cell_type": "code",
   "execution_count": 33,
   "metadata": {
    "tags": []
   },
   "outputs": [
    {
     "output_type": "stream",
     "name": "stdout",
     "text": "INFO:tensorflow:Calling model_fn.\nWARNING:tensorflow:Layer dnn is casting an input tensor from dtype float64 to the layer's dtype of float32, which is new behavior in TensorFlow 2.  The layer has dtype float32 because it's dtype defaults to floatx.\n\nIf you intended to run this layer in float32, you can safely ignore this warning. If in doubt, this warning is likely only an issue if you are porting a TensorFlow 1.X model to TensorFlow 2.\n\nTo change all layers to have dtype float64 by default, call `tf.keras.backend.set_floatx('float64')`. To change just this layer, pass dtype='float64' to the layer constructor. If you are the author of this layer, you can disable autocasting by passing autocast=False to the base Layer constructor.\n\nINFO:tensorflow:Done calling model_fn.\nINFO:tensorflow:Starting evaluation at 2020-09-28T23:30:12Z\nINFO:tensorflow:Graph was finalized.\nINFO:tensorflow:Restoring parameters from /tmp/tmpp38kadza/model.ckpt-5000\nINFO:tensorflow:Running local_init_op.\nINFO:tensorflow:Done running local_init_op.\nINFO:tensorflow:Inference Time : 0.34526s\nINFO:tensorflow:Finished evaluation at 2020-09-28-23:30:13\nINFO:tensorflow:Saving dict for global step 5000: accuracy = 0.93333334, average_loss = 0.40548363, global_step = 5000, loss = 0.40548363\nINFO:tensorflow:Saving 'checkpoint_path' summary for global step 5000: /tmp/tmpp38kadza/model.ckpt-5000\n\nTest set accuracy: 0.933\n\n"
    }
   ],
   "source": [
    "eval_result = classifier.evaluate(input_fn=lambda: input_fn(test, test_y, training=False))\n",
    "print('\\nTest set accuracy: {accuracy:0.3f}\\n'.format(**eval_result))"
   ]
  },
  {
   "cell_type": "code",
   "execution_count": null,
   "metadata": {},
   "outputs": [],
   "source": []
  }
 ]
}